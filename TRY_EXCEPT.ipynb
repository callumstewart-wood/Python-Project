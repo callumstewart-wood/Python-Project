{
  "nbformat": 4,
  "nbformat_minor": 0,
  "metadata": {
    "colab": {
      "provenance": [],
      "authorship_tag": "ABX9TyPzvgKS4w4KtqwOBKVT/b9X",
      "include_colab_link": true
    },
    "kernelspec": {
      "name": "python3",
      "display_name": "Python 3"
    },
    "language_info": {
      "name": "python"
    }
  },
  "cells": [
    {
      "cell_type": "markdown",
      "metadata": {
        "id": "view-in-github",
        "colab_type": "text"
      },
      "source": [
        "<a href=\"https://colab.research.google.com/github/callumstewart-wood/Python-Project/blob/main/TRY_EXCEPT.ipynb\" target=\"_parent\"><img src=\"https://colab.research.google.com/assets/colab-badge.svg\" alt=\"Open In Colab\"/></a>"
      ]
    },
    {
      "cell_type": "code",
      "execution_count": null,
      "metadata": {
        "colab": {
          "base_uri": "https://localhost:8080/"
        },
        "id": "gGXG8mqtDzdo",
        "outputId": "e316d804-193f-4838-b36b-b0cf75f37a0f"
      },
      "outputs": [
        {
          "output_type": "stream",
          "name": "stdout",
          "text": [
            "enter the numerator: j\n",
            "ERROR, cannot enter string\n",
            "this will always be displayed\n",
            "program ends\n"
          ]
        }
      ],
      "source": [
        "try: #if an error occurs in any line, operator skips all lines and jumps to except\n",
        "  a=float(input('enter the numerator: '))\n",
        "  b=float(input('enter the denominator: '))\n",
        "  print(a/b)\n",
        "  print('division complete')\n",
        "except ZeroDivisionError:        #prints if error is a ZeroDivisionError (dividing by 0)\n",
        "  print('ERROR, cannot divide by 0')\n",
        "except ValueError:                # prints if a string is entered, cannot make a string a float\n",
        "  print('ERROR, cannot enter string')\n",
        "except:                           # prints if not one of defined error\n",
        "  print('unknown error')\n",
        "finally:                         #executed regardless of whether there are errors or not\n",
        "  print(\"this will always be displayed\")\n",
        "print('program ends')"
      ]
    },
    {
      "cell_type": "code",
      "source": [
        "l = [1,3,5,7,9]\n",
        "\n",
        "try:\n",
        "  idx = int(input('enter a index: '))\n",
        "  print(l[idx])\n",
        "except IndexError:\n",
        "  print('index value out of bounds')\n",
        "except ValueError:\n",
        "  print(\"Indexs must be numerical values\")\n"
      ],
      "metadata": {
        "colab": {
          "base_uri": "https://localhost:8080/"
        },
        "id": "-A6QNTU9HZJE",
        "outputId": "621aa4e0-c24d-41ea-b59c-144bbab9d67b"
      },
      "execution_count": null,
      "outputs": [
        {
          "output_type": "stream",
          "name": "stdout",
          "text": [
            "enter a index: 32\n",
            "index value out of bounds\n"
          ]
        }
      ]
    },
    {
      "cell_type": "code",
      "source": [
        "def avg(alist):\n",
        "  try:\n",
        "    return sum(alist)/len(alist)\n",
        "  except ZeroDivisionError:\n",
        "    print('ERROR: List is empty')\n",
        "    return\n",
        "  except TypeError:\n",
        "    print('ERROR: list cannot have multiple layers or strings')\n",
        "    return float('nan')\n",
        "\n",
        "\n",
        "l = [5,8.5]\n",
        "\n",
        "avg(l)\n"
      ],
      "metadata": {
        "colab": {
          "base_uri": "https://localhost:8080/"
        },
        "id": "2m3qfyGCJ2Hb",
        "outputId": "73f5e731-9b67-4602-ad60-70dad1f40591"
      },
      "execution_count": null,
      "outputs": [
        {
          "output_type": "execute_result",
          "data": {
            "text/plain": [
              "6.75"
            ]
          },
          "metadata": {},
          "execution_count": 51
        }
      ]
    }
  ]
}