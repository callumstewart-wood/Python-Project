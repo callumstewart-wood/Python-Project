{
  "nbformat": 4,
  "nbformat_minor": 0,
  "metadata": {
    "colab": {
      "provenance": [],
      "include_colab_link": true
    },
    "kernelspec": {
      "name": "python3",
      "display_name": "Python 3"
    },
    "language_info": {
      "name": "python"
    }
  },
  "cells": [
    {
      "cell_type": "markdown",
      "metadata": {
        "id": "view-in-github",
        "colab_type": "text"
      },
      "source": [
        "<a href=\"https://colab.research.google.com/github/callumstewart-wood/Python-Project/blob/main/ProblemSet1(1).ipynb\" target=\"_parent\"><img src=\"https://colab.research.google.com/assets/colab-badge.svg\" alt=\"Open In Colab\"/></a>"
      ]
    },
    {
      "cell_type": "markdown",
      "source": [
        "# Problem Set 2"
      ],
      "metadata": {
        "id": "mqKVIuY-mxNU"
      }
    },
    {
      "cell_type": "markdown",
      "source": [
        "## Assignment 1: Quality Control (7 points)\n",
        "\n",
        "A quality control manager would like to find the average weight of a list of weights. Prior experience indicates that the first two measures are atypical, and the practice is to exclude these from the average calculation.\n",
        "\n",
        "Write a program that calculates the average of a list of numbers that given as inputs from the user, excluding the first three values.\n",
        "\n",
        "For your program, you must define and use the following functions:\n",
        "- `getValues(n)`: Prompt the user for `n` values, returns the list\n",
        "- `calcAverage(alist)`: Calculates the average from the list"
      ],
      "metadata": {
        "id": "-RSYW1jVm08n"
      }
    },
    {
      "cell_type": "code",
      "source": [
        "def getValues(n):\n",
        "  values = []\n",
        "  for i in range(n):\n",
        "    value = float(input(\"enter a weight\"))\n",
        "    values.append(value)\n",
        "  return values[2:]\n",
        "\n",
        "def calcAverage(alist):\n",
        "  return sum(alist) / len(alist)\n",
        "\n",
        "n_weights = int(input(\"enter a number of weights \"))\n",
        "values = getValues(n_weights)\n",
        "average = calcAverage(values)\n",
        "print({average})"
      ],
      "metadata": {
        "colab": {
          "base_uri": "https://localhost:8080/"
        },
        "id": "IhYagsb6Qk52",
        "outputId": "4f5d6a25-f080-4a6c-dff9-77661ed74104"
      },
      "execution_count": null,
      "outputs": [
        {
          "output_type": "stream",
          "name": "stdout",
          "text": [
            "enter a number of weights4\n",
            "enter a weight1\n",
            "enter a weight2\n",
            "enter a weight2\n",
            "enter a weight2\n",
            "{2.0}\n"
          ]
        }
      ]
    },
    {
      "cell_type": "code",
      "execution_count": null,
      "metadata": {
        "id": "AqbgJkgNmvQw"
      },
      "outputs": [],
      "source": []
    },
    {
      "cell_type": "markdown",
      "source": [
        "## Assignment 2: Country Statistics Lookup-Multiple Measures (6 points)\n",
        "\n",
        "Assume a program begins with the statement:\n",
        "\n",
        "```python\n",
        "allData = { # dictionary of values for countries\n",
        "    'US': {'pop':325.7, 'gdp': 19.39, 'ccy': 'USD', 'fx':  1.0},\n",
        "    'CA': {'pop': 36.5, 'gdp':  1.65, 'ccy': 'CAD', 'fx':  1.35},\n",
        "    'MX': {'pop':129.2, 'gdp':  1.15, 'ccy': 'MXN', 'fx': 19.68}\n",
        "    }\n",
        "```\n",
        "\n",
        "Write subsequent statements that (in a loop) prompt the user for a country code (`US`, `CA`, or `MX`), then prompt for a measure name (`pop`, `gdp`, `ccy`, or `fx`), then look up in the above dictionary for the corresponding value, and display it.\n",
        "\n",
        "Example run:\n",
        "```\n",
        "Please enter a country code: CA\n",
        "Please enter a statistic: pop\n",
        "CA pop = 36.5\n",
        "```\n",
        "\n",
        "Your program should handle the cases where a user-entered country code or measure name is not found."
      ],
      "metadata": {
        "id": "QFO0Kzx8ncnv"
      }
    },
    {
      "cell_type": "code",
      "source": [
        "allData = { # dictionary of values for countries\n",
        "    'US': {'pop':325.7, 'gdp': 19.39, 'ccy': 'USD', 'fx':  1.0},\n",
        "    'CA': {'pop': 36.5, 'gdp':  1.65, 'ccy': 'CAD', 'fx':  1.35},\n",
        "    'MX': {'pop':129.2, 'gdp':  1.15, 'ccy': 'MXN', 'fx': 19.68}\n",
        "    }\n",
        "\n",
        "while True:\n",
        "  code = input(\"enter a country code: \")\n",
        "  if code not in allData.keys():\n",
        "    print('This country code does not exist ')\n",
        "    continue\n",
        "  stat = input(\"enter a statistic: \")\n",
        "  if stat not in allData[code].keys():\n",
        "    print('invalid statistic ')\n",
        "    continue\n",
        "  answer = allData[code][stat]\n",
        "  if stat == 'pop':\n",
        "    print(f'Population = {answer} million people')\n",
        "  elif stat == 'gdp':\n",
        "    print(f'GDP = ${answer} trillion' )\n",
        "  elif stat == 'ccy':\n",
        "    print(f'Currency = {answer}')\n",
        "  elif stat == 'fx':\n",
        "    print(f' FX : {answer}')\n",
        "  yes_no= input('do you want another stat (y/n): ')\n",
        "  if yes_no == 'y':\n",
        "    continue\n",
        "  else:\n",
        "    break\n",
        "\n",
        "\n"
      ],
      "metadata": {
        "id": "NZFjRINKowEW",
        "colab": {
          "base_uri": "https://localhost:8080/"
        },
        "outputId": "76c373c8-4e66-47b7-d50d-14177481274f"
      },
      "execution_count": null,
      "outputs": [
        {
          "name": "stdout",
          "output_type": "stream",
          "text": [
            "enter a country code: CA\n",
            "enter a statistic: pop\n",
            "Population = 36.5 million people\n",
            "do you want another stat (y/n): y\n",
            "enter a country code: US\n",
            "enter a statistic: GDP\n",
            "invalid statistic \n",
            "enter a country code: US\n",
            "enter a statistic: gdp\n",
            "GDP = $19.39 trillion\n",
            "do you want another stat (y/n): n\n"
          ]
        }
      ]
    },
    {
      "cell_type": "markdown",
      "source": [
        "## Assignment 3: Parking Garage (6 points)\n",
        "\n",
        "Write a program to compute the fee for parking in a garage for a number of hours.\n",
        "\n",
        "The program should:\n",
        "- Prompt the user for how many hours parked\n",
        "- Calculate the fee based on the following rules:\n",
        "  - $2.50/hour\n",
        "\n",
        "  - minimum fee is $6.00\n",
        "\n",
        "  - maximum fee is $20.00\n",
        "- Print the result\n",
        "\n",
        "For your program, define and use the following two functions:\n",
        "```python\n",
        "# use input() to prompt for the # of hours parked, return this value\n",
        "def getParkingHours()\n",
        "\n",
        "# takes as input hours (a number), returns the parking fee\n",
        "def calcParkingFee()\n",
        "```"
      ],
      "metadata": {
        "id": "GjaUFrnfpKFf"
      }
    },
    {
      "cell_type": "code",
      "source": [
        "def getParkingHours():\n",
        "  hours_parked = float(input(\"Enter the number of hours parked: \"))\n",
        "  return hours_parked\n",
        "\n",
        "def calcParkingFee(hours):\n",
        "  fee_per_hour = 2.50\n",
        "  min_fee = 6.00\n",
        "  max_fee = 20.00\n",
        "  fee = hours * fee_per_hour\n",
        "  if fee < min_fee:\n",
        "        fee = min_fee\n",
        "  elif fee > max_fee:\n",
        "        fee = max_fee\n",
        "  return fee\n",
        "\n",
        "hours = getParkingHours()\n",
        "parking_fee = calcParkingFee(hours)\n",
        "print(f'The parking fee is ${parking_fee} for {hours} hours')\n"
      ],
      "metadata": {
        "id": "5ha4O3V5pwNN",
        "colab": {
          "base_uri": "https://localhost:8080/"
        },
        "outputId": "61790b5b-b9a6-443b-80e8-7fd3d94975b2"
      },
      "execution_count": null,
      "outputs": [
        {
          "output_type": "stream",
          "name": "stdout",
          "text": [
            "Enter the number of hours parked: 7\n",
            "The parking fee is $17.5 for 7.0 hours\n"
          ]
        }
      ]
    },
    {
      "cell_type": "markdown",
      "source": [
        "## Assignment 4: Tuition (6 points)\n",
        "\n",
        "A college charges tuition according to the following:\n",
        "- 12 or more credits: $20,000/semester\n",
        "\n",
        "- 1-11 credits: $1,200 + $1,700 per credit\n",
        "\n",
        "Write a program that prompts the user for a number of credits and determines and displays the tuition for the semester. As part of your program, define and use the following function:\n",
        "```python\n",
        "def calcTuition(credits)\n",
        "```\n",
        "The function returns the tuition for a given number of credits"
      ],
      "metadata": {
        "id": "gipBObe5qm-2"
      }
    },
    {
      "cell_type": "code",
      "source": [
        "def calcTuition(credits):\n",
        "  if credits >= 12:\n",
        "    tuition = 20000\n",
        "  elif credits < 12 and credits >= 1:\n",
        "    tuition = 1200 + (credits * 1700)\n",
        "  else:\n",
        "    print('invalid number of credits')\n",
        "  return tuition\n",
        "\n",
        "number_credits = int(input(\"how many credits do you have this semester? \"))\n",
        "answer = calcTuition(number_credits)\n",
        "print(f' Your Payment is : ${answer}')\n",
        "\n"
      ],
      "metadata": {
        "id": "BPcn9ywzrL8y",
        "colab": {
          "base_uri": "https://localhost:8080/"
        },
        "outputId": "ba3282db-886e-4c44-cff6-5d290bc7f9ca"
      },
      "execution_count": null,
      "outputs": [
        {
          "output_type": "stream",
          "name": "stdout",
          "text": [
            "how many credits do you have this semester? 10\n",
            " Your Payment is : $18200\n"
          ]
        }
      ]
    }
  ]
}